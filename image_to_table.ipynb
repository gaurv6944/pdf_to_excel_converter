{
 "cells": [
  {
   "cell_type": "code",
   "execution_count": 12,
   "id": "cf2fa6dd",
   "metadata": {},
   "outputs": [
    {
     "name": "stdout",
     "output_type": "stream",
     "text": [
      " * Serving Flask app '__main__'\n",
      " * Debug mode: on\n"
     ]
    },
    {
     "name": "stderr",
     "output_type": "stream",
     "text": [
      "WARNING: This is a development server. Do not use it in a production deployment. Use a production WSGI server instead.\n",
      " * Running on http://127.0.0.1:5001\n",
      "Press CTRL+C to quit\n",
      " * Restarting with watchdog (windowsapi)\n"
     ]
    },
    {
     "ename": "SystemExit",
     "evalue": "1",
     "output_type": "error",
     "traceback": [
      "An exception has occurred, use %tb to see the full traceback.\n",
      "\u001b[1;31mSystemExit\u001b[0m\u001b[1;31m:\u001b[0m 1\n"
     ]
    }
   ],
   "source": [
    "import os\n",
    "import re\n",
    "import pdfplumber\n",
    "import pandas as pd\n",
    "from flask import Flask, render_template, request, send_file\n",
    "\n",
    "app = Flask(__name__)\n",
    "UPLOAD_FOLDER = \"uploads\"\n",
    "OUTPUT_FOLDER = \"outputs\"\n",
    "\n",
    "os.makedirs(UPLOAD_FOLDER, exist_ok=True)\n",
    "os.makedirs(OUTPUT_FOLDER, exist_ok=True)\n",
    "\n",
    "def extract_table_from_pdf(pdf_path, output_excel):\n",
    "    extracted_data = []\n",
    "    \n",
    "    try:\n",
    "        with pdfplumber.open(pdf_path) as pdf:\n",
    "            for i, page in enumerate(pdf.pages):\n",
    "                text = page.extract_text()\n",
    "                if not text:\n",
    "                    continue  # Skip empty pages\n",
    "                \n",
    "                lines = text.split(\"\\n\")\n",
    "                table_data = {}\n",
    "\n",
    "                for line in lines:\n",
    "                    match = re.match(r\"([\\w\\s]+)\\s+:\\s+(.+)\", line)\n",
    "                    if match:\n",
    "                        key, value = match.groups()\n",
    "                        table_data[key.strip()] = value.strip()\n",
    "                \n",
    "                if table_data:\n",
    "                    extracted_data.append(table_data)\n",
    "\n",
    "        if extracted_data:\n",
    "            df = pd.DataFrame(extracted_data)\n",
    "            df.to_excel(output_excel, index=False)\n",
    "            return True\n",
    "        return False\n",
    "    except Exception as e:\n",
    "        print(f\"Error extracting table: {e}\")\n",
    "        return False\n",
    "\n",
    "@app.route(\"/\", methods=[\"GET\", \"POST\"])\n",
    "def index():\n",
    "    if request.method == \"POST\":\n",
    "        if \"file\" not in request.files:\n",
    "            return \"No file uploaded\", 400\n",
    "        \n",
    "        file = request.files[\"file\"]\n",
    "        if file.filename == \"\":\n",
    "            return \"No selected file\", 400\n",
    "        \n",
    "        file_path = os.path.join(UPLOAD_FOLDER, file.filename)\n",
    "        file.save(file_path)\n",
    "\n",
    "        output_excel = os.path.join(OUTPUT_FOLDER, \"extracted_data.xlsx\")\n",
    "        success = extract_table_from_pdf(file_path, output_excel)\n",
    "\n",
    "        if success:\n",
    "            return send_file(output_excel, as_attachment=True)\n",
    "        else:\n",
    "            return \"No structured data found in the PDF\", 400\n",
    "\n",
    "    return render_template(\"index.html\")\n",
    "\n",
    "if __name__ == \"__main__\":\n",
    "    port = int(os.environ.get(\"PORT\", 5001))  # Run on dynamic port\n",
    "    app.run(debug=True, port=port)\n"
   ]
  }
 ],
 "metadata": {
  "kernelspec": {
   "display_name": "Python 3",
   "language": "python",
   "name": "python3"
  },
  "language_info": {
   "codemirror_mode": {
    "name": "ipython",
    "version": 3
   },
   "file_extension": ".py",
   "mimetype": "text/x-python",
   "name": "python",
   "nbconvert_exporter": "python",
   "pygments_lexer": "ipython3",
   "version": "3.11.1"
  }
 },
 "nbformat": 4,
 "nbformat_minor": 5
}
